{
 "cells": [
  {
   "cell_type": "code",
   "execution_count": 20,
   "metadata": {},
   "outputs": [],
   "source": [
    "total_months=0\n",
    "total=0\n",
    "average_change=0\n",
    "greatest_increase_in_profits_on=''\n",
    "greatest_increase_in_profits=0\n",
    "greatest_decrease_in_profits_on=''\n",
    "greatest_decrease_in_profits=0"
   ]
  },
  {
   "cell_type": "code",
   "execution_count": 21,
   "metadata": {},
   "outputs": [],
   "source": [
    "import csv  #importing the library\n",
    "\n",
    "with open(\"budget_data.csv\") as csvFile:   #open the file\n",
    "  CSVdata = csv.reader(csvFile, delimiter=',')  #read the data\n",
    "  next(CSVdata, None)  # skip the headers\n",
    "  for row in CSVdata:   #loop through each row\n",
    "    date = row[0]\n",
    "    profit = int(row[1])\n",
    "    total_months += 1\n",
    "    total += profit\n",
    "    if profit > greatest_increase_in_profits :\n",
    "        greatest_increase_in_profits = profit\n",
    "        greatest_increase_in_profits_on = date\n",
    "    if profit < greatest_decrease_in_profits:\n",
    "        greatest_decrease_in_profits = profit\n",
    "        greatest_decrease_in_profits_on = date\n",
    "csvFile.close()   #close the file\n",
    "\n",
    "average_change = total / total_months\n"
   ]
  },
  {
   "cell_type": "code",
   "execution_count": 22,
   "metadata": {},
   "outputs": [
    {
     "name": "stdout",
     "output_type": "stream",
     "text": [
      "Financial Analysis\n",
      "----------------------------\n",
      "Total Months: 86\n",
      "Total: $38382578\n",
      "Average Change: $446309.05\n",
      "Greatest Increase in Profits: Feb-2012 ($1170593)\n",
      "Greatest Decrease in Profits: Sep-2013 ($-1196225)\n"
     ]
    }
   ],
   "source": [
    "print('Financial Analysis')\n",
    "print('----------------------------')\n",
    "print(f'Total Months: {total_months}')\n",
    "print(f'Total: ${total}')\n",
    "print('Average Change: ${:.2f}'.format(average_change))\n",
    "print(f'Greatest Increase in Profits: {greatest_increase_in_profits_on} (${greatest_increase_in_profits})')\n",
    "print(f'Greatest Decrease in Profits: {greatest_decrease_in_profits_on} (${greatest_decrease_in_profits})')"
   ]
  }
 ],
 "metadata": {
  "kernelspec": {
   "display_name": "Python 3",
   "language": "python",
   "name": "python3"
  },
  "language_info": {
   "codemirror_mode": {
    "name": "ipython",
    "version": 3
   },
   "file_extension": ".py",
   "mimetype": "text/x-python",
   "name": "python",
   "nbconvert_exporter": "python",
   "pygments_lexer": "ipython3",
   "version": "3.7.4"
  }
 },
 "nbformat": 4,
 "nbformat_minor": 4
}
