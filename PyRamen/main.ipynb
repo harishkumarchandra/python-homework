{
 "cells": [
  {
   "cell_type": "code",
   "execution_count": 7,
   "metadata": {},
   "outputs": [],
   "source": [
    "import csv  #importing the library\n",
    "\n",
    "menu=[]\n",
    "with open(\"menu_data.csv\") as csvFile:   #open the file\n",
    "  CSVdata = csv.reader(csvFile, delimiter=',')  #read the data\n",
    "  next(CSVdata, None)  # skip the headers\n",
    "  for row in CSVdata:\n",
    "    menu.append(row)\n",
    "csvFile.close()   #close the file\n",
    "\n",
    "sales=[]\n",
    "with open(\"sales_data.csv\") as csvFile:   #open the file\n",
    "  CSVdata = csv.reader(csvFile, delimiter=',')  #read the data\n",
    "  next(CSVdata, None)  # skip the headers\n",
    "  for row in CSVdata:\n",
    "    sales.append(row)\n",
    "csvFile.close()   #close the file\n",
    "\n",
    "report={}\n",
    "\n",
    "for sale in sales:    \n",
    "    quantity = int(sale[3])\n",
    "    sales_item = sale[4]\n",
    "    \n",
    "    if sales_item not in report:\n",
    "        report[sales_item] = {\n",
    "            \"01-count\": 0,\n",
    "            \"02-revenue\": 0,\n",
    "            \"03-cogs\": 0,\n",
    "            \"04-profit\": 0,\n",
    "        }\n",
    "    \n",
    "    for row in menu:\n",
    "        item = row[0]\n",
    "        price = float(row[3])\n",
    "        cost = float(row[4])\n",
    "        profit = price - cost\n",
    "        \n",
    "        if sales_item == item:\n",
    "            report[sales_item][\"01-count\"] += quantity\n",
    "            report[sales_item][\"02-revenue\"] += price * quantity\n",
    "            report[sales_item][\"03-cogs\"] += cost * quantity            \n",
    "            report[sales_item][\"04-profit\"] += profit * quantity        \n",
    "            \n",
    "with open('report.txt', 'w') as f:\n",
    "    print(report, file=f)\n",
    "\n",
    "f.close()\n",
    "        \n",
    "        "
   ]
  },
  {
   "cell_type": "code",
   "execution_count": null,
   "metadata": {},
   "outputs": [],
   "source": []
  }
 ],
 "metadata": {
  "kernelspec": {
   "display_name": "Python 3",
   "language": "python",
   "name": "python3"
  },
  "language_info": {
   "codemirror_mode": {
    "name": "ipython",
    "version": 3
   },
   "file_extension": ".py",
   "mimetype": "text/x-python",
   "name": "python",
   "nbconvert_exporter": "python",
   "pygments_lexer": "ipython3",
   "version": "3.7.4"
  }
 },
 "nbformat": 4,
 "nbformat_minor": 4
}
